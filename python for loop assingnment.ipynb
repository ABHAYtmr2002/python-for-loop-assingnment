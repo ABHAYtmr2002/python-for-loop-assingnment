{
 "cells": [
  {
   "cell_type": "markdown",
   "id": "1af261ad-e0ed-4ad0-9f6c-3b698d437cb2",
   "metadata": {},
   "source": [
    "question1:"
   ]
  },
  {
   "cell_type": "code",
   "execution_count": 10,
   "id": "2272184a-c7cb-4704-91e1-9bf98a8a649f",
   "metadata": {},
   "outputs": [
    {
     "name": "stdout",
     "output_type": "stream",
     "text": [
      "1\n",
      "2\n",
      "3\n",
      "4\n",
      "5\n",
      "6\n",
      "7\n",
      "8\n",
      "9\n",
      "10\n"
     ]
    }
   ],
   "source": [
    "for i in range(1,11):\n",
    "    print(i)"
   ]
  },
  {
   "cell_type": "markdown",
   "id": "9b67cbcf-1b26-4b4a-8bdc-d851b8dc9cfa",
   "metadata": {},
   "source": [
    "question2:\n"
   ]
  },
  {
   "cell_type": "code",
   "execution_count": 60,
   "id": "2c06115c-1f9c-41f6-a90f-9e499021ac6f",
   "metadata": {},
   "outputs": [
    {
     "name": "stdout",
     "output_type": "stream",
     "text": [
      "Sum of numbers from 1 to 100 is: 5050\n"
     ]
    }
   ],
   "source": [
    "\n",
    "total_sum = 0 \n",
    "for i in range(1, 101):\n",
    "    total_sum += i\n",
    "\n",
    "print(\"Sum of numbers from 1 to 100 is:\", total_sum)\n"
   ]
  },
  {
   "cell_type": "markdown",
   "id": "b070bb69-d215-4a28-b89d-2198b8b17b6b",
   "metadata": {},
   "source": [
    "question3:"
   ]
  },
  {
   "cell_type": "code",
   "execution_count": 50,
   "id": "3be088e1-8632-4de7-8d1e-dcffdbbfa4cf",
   "metadata": {},
   "outputs": [
    {
     "name": "stdout",
     "output_type": "stream",
     "text": [
      "7*1 = 7\n",
      "7*2 = 14\n",
      "7*3 = 21\n",
      "7*4 = 28\n",
      "7*5 = 35\n",
      "7*6 = 42\n",
      "7*7 = 49\n",
      "7*8 = 56\n",
      "7*9 = 63\n",
      "7*10 = 70\n"
     ]
    }
   ],
   "source": [
    "num=7\n",
    "for i in range(1,11):\n",
    " print(f\"{num}*{i} = {num*i}\")"
   ]
  },
  {
   "cell_type": "markdown",
   "id": "023b39f3-aad9-4a0f-81a2-16c5b342210e",
   "metadata": {},
   "source": [
    "#OR"
   ]
  },
  {
   "cell_type": "code",
   "execution_count": 54,
   "id": "b81d4534-31a7-459b-b0d9-ce48d0e2679c",
   "metadata": {},
   "outputs": [
    {
     "name": "stdin",
     "output_type": "stream",
     "text": [
      "enter a number: 220\n"
     ]
    },
    {
     "name": "stdout",
     "output_type": "stream",
     "text": [
      "220*1=220\n",
      "220*2=440\n",
      "220*3=660\n",
      "220*4=880\n",
      "220*5=1100\n",
      "220*6=1320\n",
      "220*7=1540\n",
      "220*8=1760\n",
      "220*9=1980\n",
      "220*10=2200\n"
     ]
    }
   ],
   "source": [
    "num=int(input(\"enter a number:\"))\n",
    "for i in range(1,11):\n",
    "    print(f\"{num}*{i}={num*i}\")"
   ]
  },
  {
   "cell_type": "markdown",
   "id": "f67dfc41-ede7-4e77-abe1-47a0ba2b54b4",
   "metadata": {},
   "source": [
    "question4:"
   ]
  },
  {
   "cell_type": "code",
   "execution_count": 3,
   "id": "a6fb3963-05fb-4742-ae3f-de81e3db4c3e",
   "metadata": {},
   "outputs": [
    {
     "name": "stdout",
     "output_type": "stream",
     "text": [
      "Total even numbers: 5\n",
      "Total odd numbers: 5\n"
     ]
    }
   ],
   "source": [
    "numbers = [1, 2, 3, 4, 5, 6, 7, 8, 9, 10]\n",
    "even_count = 0 \n",
    "odd_count = 0 \n",
    "\n",
    "for num in numbers:\n",
    "    if num % 2 == 0:\n",
    "        even_count += 1\n",
    "    else:\n",
    "        odd_count += 1\n",
    "\n",
    "print(\"Total even numbers:\", even_count)\n",
    "print(\"Total odd numbers:\", odd_count)\n"
   ]
  },
  {
   "cell_type": "markdown",
   "id": "396dd6a4-10c9-4d54-9b4d-0b038061650b",
   "metadata": {},
   "source": [
    " question5:"
   ]
  },
  {
   "cell_type": "code",
   "execution_count": 5,
   "id": "16c2e7be-5ff5-425c-a59e-707c8fc21458",
   "metadata": {},
   "outputs": [
    {
     "name": "stdin",
     "output_type": "stream",
     "text": [
      "Enter a number:  50\n"
     ]
    },
    {
     "name": "stdout",
     "output_type": "stream",
     "text": [
      "Factorial of 50 is 30414093201713378043612608166064768844377641568960512000000000000\n"
     ]
    }
   ],
   "source": [
    "num = int(input(\"Enter a number: \"))\n",
    "\n",
    "factorial = 1\n",
    "\n",
    "for i in range(1, num + 1):\n",
    "    factorial *= i \n",
    "    \n",
    "print(f\"Factorial of {num} is {factorial}\")\n"
   ]
  },
  {
   "cell_type": "markdown",
   "id": "115cac70-29ea-4c3c-a8d4-a17136f36f88",
   "metadata": {},
   "source": [
    "question6:"
   ]
  },
  {
   "cell_type": "code",
   "execution_count": 10,
   "id": "3f0ef51f-fd8c-436f-9be4-7e163162551a",
   "metadata": {},
   "outputs": [
    {
     "name": "stdin",
     "output_type": "stream",
     "text": [
      "Enter the limit for Fibonacci sequence:  500\n"
     ]
    },
    {
     "name": "stdout",
     "output_type": "stream",
     "text": [
      "Fibonacci sequence: 0 1 1 2 3 5 8 13 21 34 55 89 144 233 377 "
     ]
    }
   ],
   "source": [
    "num = int(input(\"Enter the limit for Fibonacci sequence: \"))\n",
    "\n",
    "a, b = 0, 1 \n",
    "\n",
    "print(\"Fibonacci sequence:\", a, b, end=\" \") \n",
    "\n",
    "for _ in range(num - 2): \n",
    "    next_num = a + b \n",
    "    if next_num > num: \n",
    "        break\n",
    "    print(next_num, end=\" \")\n",
    "    a, b = b, next_num \n",
    "\n"
   ]
  },
  {
   "cell_type": "markdown",
   "id": "8cf7b1ed-1c5a-42fe-9cb6-020d8ef69178",
   "metadata": {},
   "source": [
    "question7:"
   ]
  },
  {
   "cell_type": "code",
   "execution_count": 13,
   "id": "47b5fab5-65ab-4c33-a900-755b5d5bfeac",
   "metadata": {},
   "outputs": [
    {
     "name": "stdin",
     "output_type": "stream",
     "text": [
      "Enter a number:  7\n"
     ]
    },
    {
     "name": "stdout",
     "output_type": "stream",
     "text": [
      "7 is a prime number\n"
     ]
    }
   ],
   "source": [
    "num = int(input(\"Enter a number: \"))\n",
    "\n",
    "if num < 2:\n",
    "    print(f\"{num} is not a prime number\")\n",
    "else:\n",
    "    is_prime = True\n",
    "    for i in range(2, num):\n",
    "        if num % i == 0:\n",
    "            is_prime = False\n",
    "            break\n",
    "\n",
    "    if is_prime:\n",
    "        print(f\"{num} is a prime number\")\n",
    "    else:\n",
    "        print(f\"{num} is not a prime number\")\n"
   ]
  },
  {
   "cell_type": "markdown",
   "id": "6ebce809-4374-4023-bed4-538f1e85ed8a",
   "metadata": {},
   "source": [
    "question8:"
   ]
  },
  {
   "cell_type": "code",
   "execution_count": 16,
   "id": "c204799b-8af6-4839-b3b9-490cd7956156",
   "metadata": {},
   "outputs": [
    {
     "name": "stdout",
     "output_type": "stream",
     "text": [
      "Largest element in the list is 98\n"
     ]
    }
   ],
   "source": [
    "numbers = [10, 25, 7, 89, 56, 98, 34]\n",
    "\n",
    "largest = numbers[0]\n",
    "\n",
    "for num in numbers:\n",
    "    if num > largest: \n",
    "        largest = num \n",
    "\n",
    "print(f\"Largest element in the list is {largest}\")\n"
   ]
  },
  {
   "cell_type": "markdown",
   "id": "25427f2f-5b06-4049-b000-8d3832ba573c",
   "metadata": {},
   "source": [
    "question9:"
   ]
  },
  {
   "cell_type": "code",
   "execution_count": 19,
   "id": "48806c39-6cd5-4756-9842-9bcd9dd65282",
   "metadata": {},
   "outputs": [
    {
     "name": "stdin",
     "output_type": "stream",
     "text": [
      "Enter a string:  hello my name is abhay tomar\n"
     ]
    },
    {
     "name": "stdout",
     "output_type": "stream",
     "text": [
      "Reversed string is: ramot yahba si eman ym olleh\n"
     ]
    }
   ],
   "source": [
    "text = input(\"Enter a string: \")\n",
    "\n",
    "reversed_text = \"\"\n",
    "\n",
    "for char in text:\n",
    "    reversed_text = char + reversed_text\n",
    "\n",
    "print(f\"Reversed string is: {reversed_text}\")\n"
   ]
  },
  {
   "cell_type": "markdown",
   "id": "1729f81c-a1b7-4667-874c-334b136290c5",
   "metadata": {},
   "source": [
    "question10:"
   ]
  },
  {
   "cell_type": "code",
   "execution_count": 22,
   "id": "ab19f43d-f539-4e40-8785-4ab210300666",
   "metadata": {},
   "outputs": [
    {
     "name": "stdout",
     "output_type": "stream",
     "text": [
      "Common elements are: [1]\n"
     ]
    }
   ],
   "source": [
    "list1 = [1, 2, 3]\n",
    "list2 = [4, 5, 1]\n",
    "\n",
    "common_elements = []\n",
    "\n",
    "for num in list1:\n",
    "    if num in list2:\n",
    "        common_elements.append(num)\n",
    "\n",
    "print(f\"Common elements are: {common_elements}\")\n"
   ]
  },
  {
   "cell_type": "code",
   "execution_count": null,
   "id": "f180f864-b723-4a51-b72a-21de94cf80c2",
   "metadata": {},
   "outputs": [],
   "source": []
  }
 ],
 "metadata": {
  "kernelspec": {
   "display_name": "Python [conda env:base] *",
   "language": "python",
   "name": "conda-base-py"
  },
  "language_info": {
   "codemirror_mode": {
    "name": "ipython",
    "version": 3
   },
   "file_extension": ".py",
   "mimetype": "text/x-python",
   "name": "python",
   "nbconvert_exporter": "python",
   "pygments_lexer": "ipython3",
   "version": "3.12.7"
  }
 },
 "nbformat": 4,
 "nbformat_minor": 5
}
